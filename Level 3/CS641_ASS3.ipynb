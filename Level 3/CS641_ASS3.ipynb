{
  "nbformat": 4,
  "nbformat_minor": 0,
  "metadata": {
    "colab": {
      "provenance": []
    },
    "kernelspec": {
      "name": "python3",
      "display_name": "Python 3"
    },
    "language_info": {
      "name": "python"
    }
  },
  "cells": [
    {
      "cell_type": "code",
      "source": [
        "# qmnjvsa nv wewc flct vprj tj tvvplvl fv xja vqildhc\n",
        "# xmlnvc nacyclpa fc gyt vfvw. fv wgqyp, pqq pqcs y wsq\n",
        "# rx qmnjvafy cgv tlvhf cw tyl aeuq fv xja tkbv cqnsqs. \n",
        "# lhf avawnc cv eas fuqb qvq tc yllrqr xxwa cfy. psdc uqf\n",
        "# avrqc gefq pyat trac xwv taa wwd dv eas flcbq. vd trawm\n",
        "# vupq quw x decgqcwt, yq yafl vlqs yqklhq! snafq vml\n",
        "# lhvqpawr nqg_vfusr_ec_wawy qp fn wgawdgf."
      ],
      "metadata": {
        "id": "JRJzD4j0cI-e"
      },
      "execution_count": null,
      "outputs": []
    },
    {
      "cell_type": "code",
      "source": [
        "from IPython.display import Markdown, display\n",
        "from itertools import permutations\n",
        "import re\n",
        "\n",
        "def printmd(s):\n",
        "    display(Markdown(s))"
      ],
      "metadata": {
        "id": "ZK4IKcOLbTKN"
      },
      "execution_count": null,
      "outputs": []
    },
    {
      "cell_type": "code",
      "source": [
        "common_words = [[\"a\",\"i\"],\n",
        "                [\"of\", \"to\", \"in\", \"it\", \"is\", \"be\", \"as\", \"at\", \"so\", \"we\", \"he\", \"by\", \"or\", \"on\", \"do\", \"if\", \"me\", \"my\", \"up\", \"an\", \"go\", \"no\", \"us\", \"am\"],\n",
        "                [\"the\", \"and\", \"for\", \"are\", \"but\", \"not\", \"you\", \"all\", \"any\", \"can\", \"had\", \"her\", \"was\", \"one\", \"our\", \"out\", \"day\", \"get\", \"has\", \"him\", \"his\", \"how\", \"man\", \"new\", \"now\", \"old\", \"see\", \"two\", \"way\", \"who\", \"boy\", \"did\", \"its\", \"let\", \"put\", \"say\", \"she\", \"too\", \"use\"],\n",
        "                [\"that\", \"with\", \"have\", \"this\", \"will\", \"your\", \"from\", \"they\", \"know\", \"want\", \"been\", \"good\", \"much\", \"some\", \"time\"]]"
      ],
      "metadata": {
        "id": "Hx8JRgOlefGi"
      },
      "execution_count": null,
      "outputs": []
    },
    {
      "cell_type": "code",
      "source": [
        "def updated_string(s,ret = 0):\n",
        "    ans,tmp = \"\",\"\"\n",
        "    for i in range(len(s)):\n",
        "        c = s[i]\n",
        "        C = c\n",
        "        if a[i] == 1:\n",
        "            if ord('a') <= ord(c) and ord(c)<= ord('z'):\n",
        "                c = chr( ord('a') + perm[ord(c)-ord('a')] ) \n",
        "            elif ord('A') <= ord(c) and ord(c)<= ord('Z'):\n",
        "                c = chr( ord('A') + perm[ord(c)-ord('A')] )\n",
        "            if i>0 and ans[-1] == '*':\n",
        "                ans = ans[:-2] + c + \"**\"\n",
        "            else:\n",
        "                ans = ans + \"**\" + c + \"**\"\n",
        "            C = c.upper()\n",
        "        elif c == '\\n':\n",
        "            ans = ans + \"<br>\"\n",
        "        elif c == \"_\":\n",
        "            ans = ans + \"\\_\"\n",
        "        else:\n",
        "            ans = ans + c\n",
        "        tmp += C\n",
        "\n",
        "    printmd(ans)\n",
        "    if ret == 1:\n",
        "        return tmp"
      ],
      "metadata": {
        "id": "BUFo2O8fbRbR"
      },
      "execution_count": null,
      "outputs": []
    },
    {
      "cell_type": "code",
      "source": [
        "def string_perm(st,p):\n",
        "    block = len(p)\n",
        "    string = st[:]\n",
        "    s,t = \"\",\"\"\n",
        "    for x in string:\n",
        "        if (ord('a') <= ord(x) and ord(x) <= ord('z')) or (ord('A') <= ord(x) and ord(x) <= ord('Z')):\n",
        "            s += x\n",
        "    string += \" \" + \"x\"*(block - (len(s)%block))\n",
        "    s +=  \"x\"*(block - (len(s)%block))\n",
        "\n",
        "    for i in range(len(s)):\n",
        "                t += s[i - (i%block) + p[i%block]]\n",
        "    ans,ind = \"\",0\n",
        "    for x in string:\n",
        "        if (ord('a') <= ord(x) and ord(x) <= ord('z')) or (ord('A') <= ord(x) and ord(x) <= ord('Z')):\n",
        "            ans += t[ind]\n",
        "            ind += 1\n",
        "        else:\n",
        "            ans += x\n",
        "    return ans"
      ],
      "metadata": {
        "id": "1ih9EG6rgbti"
      },
      "execution_count": null,
      "outputs": []
    },
    {
      "cell_type": "code",
      "source": [
        "def change(s,x,y):\n",
        "    cnt = 0\n",
        "    if ord('a') <= ord(x) and ord(x)<= ord('z'):\n",
        "        for i in range(len(s)):\n",
        "            if s[i] == x or s[i] == chr(ord(x)+ord('A')-ord('a')):\n",
        "                perm[ord(x)-ord('a')] = ord(y)-ord('a')\n",
        "                a[i] = 1\n",
        "                cnt += 1\n",
        "    return cnt\n",
        "\n",
        "def revert_change(s,x):\n",
        "    cnt = 0\n",
        "    if ord('a') <= ord(x) and ord(x)<= ord('z'):\n",
        "        for i in range(len(s)):\n",
        "            if s[i] == x or s[i] == chr(ord(x)+ord('A')-ord('a')):\n",
        "                perm[ord(x)-ord('a')] = ord(x)-ord('a')\n",
        "                a[i] = 0\n",
        "                cnt += 1\n",
        "    return cnt"
      ],
      "metadata": {
        "id": "5QboR4ePxrGS"
      },
      "execution_count": null,
      "outputs": []
    },
    {
      "cell_type": "code",
      "source": [
        "def find_freq(s):\n",
        "    freq = [0 for i in range(26)]\n",
        "    s = s.lower()\n",
        "    for c in s:\n",
        "        if ord('a') <= ord(c) and ord(c)<= ord('z'):\n",
        "            freq[ord(c) - ord('a')] += 1\n",
        "    lst = [(freq[i],i) for i in range(26)]\n",
        "    return sorted(lst)\n",
        "\n",
        "def find_freq2(s):\n",
        "    freq2 = [[0 for i in range(26)] for j in range(26)]\n",
        "    s = s.lower()\n",
        "    for i in range(len(s)-1):\n",
        "        if ord('a') <= ord(s[i]) and ord(s[i])<= ord('z') and  ord('a') <= ord(s[i+1]) and ord(s[i+1])<= ord('z'):\n",
        "            freq2[ ord(s[i])-ord('a') ][ ord(s[i+1])-ord('a') ] += 1\n",
        "    lst = []\n",
        "    for i in range(26):\n",
        "        for j in range(26):\n",
        "            lst.append((freq2[i][j],i,j))\n",
        "    return sorted(lst)"
      ],
      "metadata": {
        "id": "HCuprosnyRCE"
      },
      "execution_count": null,
      "outputs": []
    },
    {
      "cell_type": "code",
      "source": [
        "def sync_score(s,t):\n",
        "    flag = 0\n",
        "    for i in range(len(s)):\n",
        "        if ord('A') <= ord(s[i]) and ord(s[i])<= ord('Z'):\n",
        "            flag = 1\n",
        "            c = s[i]\n",
        "            c = c.lower()\n",
        "            if c != t[i]:\n",
        "                return 0\n",
        "    if flag == 0:\n",
        "        return 1\n",
        "    return 2"
      ],
      "metadata": {
        "id": "4-OTAYGucXwb"
      },
      "execution_count": null,
      "outputs": []
    },
    {
      "cell_type": "code",
      "source": [
        "ct = \"qmnjvsa nv wewc flct vprj tj tvvplvl fv xja vqildhc xmlnvc nacyclpa fc gyt vfvw. fv wgqyp, pqq pqcs y wsq rx qmnjvafy cgv tlvhf cw tyl aeuq fv xja tkbv cqnsqs. lhf avawnc cv eas fuqb qvq tc yllrqr xxwa cfy. psdc uqf avrqc gefq pyat trac xwv taa wwd dv eas flcbq. vd trawm vupq quw x decgqcwt, yq yafl vlqs yqklhq! snafq vml lhvqpawr nqg_vfusr_ec_wawy qp fn wgawdgf.\"\n",
        "ct = ct.lower()"
      ],
      "metadata": {
        "id": "gt4mD252GD8w"
      },
      "execution_count": null,
      "outputs": []
    },
    {
      "cell_type": "code",
      "source": [
        "a = [0 for i in range(len(ct))]\n",
        "perm = [i for i in range(26)] \n",
        "chk = [0 for i in range(26)]            "
      ],
      "metadata": {
        "id": "w4-1LslgHcsS"
      },
      "execution_count": null,
      "outputs": []
    },
    {
      "cell_type": "code",
      "source": [
        "# The frequency distribution of the letters in the ciphertext is very similar to the one obtained in any generic substitution cipher. This led us to conclude that some form of substitution cipher was involved.\n",
        "\n",
        "lst = (find_freq(ct))\n",
        "lst.reverse()\n",
        "tot = 0\n",
        "for i in range(26):\n",
        "    fr,ind = lst[i]\n",
        "    tot += fr\n",
        "for i in range(26):\n",
        "    fr,ind = lst[i]\n",
        "    print(f\"Frequency of \\'{chr(ord('a')+ind)}\\' = {100*fr/tot}\")"
      ],
      "metadata": {
        "colab": {
          "base_uri": "https://localhost:8080/"
        },
        "id": "gbhb3-M6ylQh",
        "outputId": "9cc77d51-61f5-4ba7-9673-af82e3937f42"
      },
      "execution_count": null,
      "outputs": [
        {
          "output_type": "stream",
          "name": "stdout",
          "text": [
            "Frequency of 'q' = 10.56338028169014\n",
            "Frequency of 'v' = 10.211267605633802\n",
            "Frequency of 'a' = 8.098591549295774\n",
            "Frequency of 'c' = 7.746478873239437\n",
            "Frequency of 'w' = 6.690140845070423\n",
            "Frequency of 'f' = 6.690140845070423\n",
            "Frequency of 'l' = 5.985915492957746\n",
            "Frequency of 'y' = 4.577464788732394\n",
            "Frequency of 't' = 4.577464788732394\n",
            "Frequency of 's' = 3.8732394366197185\n",
            "Frequency of 'p' = 3.8732394366197185\n",
            "Frequency of 'n' = 3.5211267605633805\n",
            "Frequency of 'r' = 3.1690140845070425\n",
            "Frequency of 'x' = 2.816901408450704\n",
            "Frequency of 'g' = 2.816901408450704\n",
            "Frequency of 'e' = 2.464788732394366\n",
            "Frequency of 'd' = 2.464788732394366\n",
            "Frequency of 'u' = 2.112676056338028\n",
            "Frequency of 'j' = 2.112676056338028\n",
            "Frequency of 'm' = 1.7605633802816902\n",
            "Frequency of 'h' = 1.7605633802816902\n",
            "Frequency of 'b' = 1.056338028169014\n",
            "Frequency of 'k' = 0.704225352112676\n",
            "Frequency of 'i' = 0.352112676056338\n",
            "Frequency of 'z' = 0.0\n",
            "Frequency of 'o' = 0.0\n"
          ]
        }
      ]
    },
    {
      "cell_type": "code",
      "source": [
        "# But the digraph frequencies are very low for the given text size. In a simple substitution cipher, the max frequency corresponding to 'th' should've been around 12. So there was a good possibility that a block permutation was involved along with a substitution cipher. So, we proceed with this observation.\n",
        "\n",
        "lst = find_freq2(ct)\n",
        "lst.reverse()\n",
        "for i in range(10):\n",
        "    fr,ind1,ind2 = lst[i]\n",
        "    print(f\"Frequency of \\'{chr(ord('a')+ind1)}{chr(ord('a')+ind2)}\\' = {fr}\")"
      ],
      "metadata": {
        "colab": {
          "base_uri": "https://localhost:8080/"
        },
        "id": "LJ2ezreXR9hz",
        "outputId": "0d77aa2c-c4f7-4004-ac22-cddcbde97d54"
      },
      "execution_count": null,
      "outputs": [
        {
          "output_type": "stream",
          "name": "stdout",
          "text": [
            "Frequency of 'aw' = 5\n",
            "Frequency of 'fv' = 4\n",
            "Frequency of 'vq' = 3\n",
            "Frequency of 'uq' = 3\n",
            "Frequency of 'qc' = 3\n",
            "Frequency of 'pq' = 3\n",
            "Frequency of 'lh' = 3\n",
            "Frequency of 'fl' = 3\n",
            "Frequency of 'af' = 3\n",
            "Frequency of 'yq' = 2\n"
          ]
        }
      ]
    },
    {
      "cell_type": "code",
      "source": [
        "# In the given ciphertext, the single lettered words are and their surroundings are: 'pqcs y wsq', 'quw x decgqc'. We assume that these single lettered words are 'a' in plaintext. Since 'a' occurs with high frequency in english alphabet, and a block permutation is performed, we look for high frequency letters present around these single lettered words in the ciphertext. In our case, we find this letter to be 'q'. So we change 'q'->'a' in the ciphertext.\n",
        "change(ct,'q','a')\n",
        "ct1 = updated_string(ct,1)"
      ],
      "metadata": {
        "colab": {
          "base_uri": "https://localhost:8080/",
          "height": 81
        },
        "id": "eDLzQrN1a-hU",
        "outputId": "c4e88fd8-6996-4266-b961-c72f65f76020"
      },
      "execution_count": null,
      "outputs": [
        {
          "output_type": "display_data",
          "data": {
            "text/plain": [
              "<IPython.core.display.Markdown object>"
            ],
            "text/markdown": "**a**mnjvsa nv wewc flct vprj tj tvvplvl fv xja v**a**ildhc xmlnvc nacyclpa fc gyt vfvw. fv wg**a**yp, p**aa** p**a**cs y ws**a** rx **a**mnjvafy cgv tlvhf cw tyl aeu**a** fv xja tkbv c**a**ns**a**s. lhf avawnc cv eas fu**a**b **a**v**a** tc yllr**a**r xxwa cfy. psdc u**a**f avr**a**c gef**a** pyat trac xwv taa wwd dv eas flcb**a**. vd trawm vup**a** **a**uw x decg**a**cwt, y**a** yafl vl**a**s y**a**klh**a**! snaf**a** vml lhv**a**pawr n**a**g\\_vfusr\\_ec\\_wawy **a**p fn wgawdgf."
          },
          "metadata": {}
        }
      ]
    },
    {
      "cell_type": "code",
      "source": [
        "# we saw that \"fv xja\" repeated in the text and the surrounding text is different for both of these occurrences. Since, there are blocks involved, and that too with a permutation, similar text would imply with high probability that they are part of identical blocks. This indicated that the block size could be 5. To further strengthen this claim, the number of letters before the first occurrence and between the two occurrences are multiples of 5. \n",
        "# But we still iterate over all possible block sizes in range [2,6] for sureity.\n",
        "# Now, for each permutation, we modify the ciphertext according to the permutation, and then evaluate a 'sync_score' for the text. This is evaluated based on how much the words in the text agree/disagree with the common words in english. The idea is that if we use a wrong permutation, then the probability that the words sync with common words in all the blocks is negligible. We use sync_score to find the most favourable permutations, and then try to decrypt them in that order. \n",
        "\n",
        "possible_perms = []\n",
        "\n",
        "for block in range(2,7):\n",
        "    perms = []\n",
        "    for p in permutations(range(block)):\n",
        "        s = string_perm(ct1,p)\n",
        "        alphabets = \"abcdefghijklmnopqrstuvwxyz\"\n",
        "        lst = s.replace(',','').replace('.','').replace('_',' ').replace('!','').split()\n",
        "\n",
        "        score = 0\n",
        "        for x in lst:\n",
        "            if len(x)>4:\n",
        "                continue\n",
        "            sc = 0\n",
        "            for y in common_words[len(x)-1]:\n",
        "                sc = max(sync_score(x,y),sc)\n",
        "            score += sc\n",
        "        perms.append((score,p))\n",
        "        perms = sorted(perms)\n",
        "    possible_perms += perms[-3:]\n",
        "\n",
        "possible_perms = sorted(possible_perms)[-3:]"
      ],
      "metadata": {
        "id": "CQDZP21zyoDs"
      },
      "execution_count": null,
      "outputs": []
    },
    {
      "cell_type": "code",
      "source": [
        "# We first try the permutation with the highest sync_score, i.e. (3, 2, 4, 0, 1) with a score of 67.\n",
        "\n",
        "print(possible_perms) # (score,permutation)"
      ],
      "metadata": {
        "id": "0ddNIERxXNQs",
        "colab": {
          "base_uri": "https://localhost:8080/"
        },
        "outputId": "f1b189c7-ef9d-49ce-a356-d2d7a854943f"
      },
      "execution_count": null,
      "outputs": [
        {
          "output_type": "stream",
          "name": "stdout",
          "text": [
            "[(65, (2, 3, 4, 0, 1)), (66, (3, 0, 4, 2, 1)), (67, (3, 2, 4, 0, 1))]\n"
          ]
        }
      ]
    },
    {
      "cell_type": "code",
      "source": [
        "permutation = possible_perms[-1][1]\n",
        "cipher = string_perm(ct,permutation)\n",
        "\n",
        "a = [0 for i in range(len(cipher))]\n",
        "perm = [i for i in range(26)] \n",
        "chk = [0 for i in range(26)]  \n",
        "\n",
        "updated_string(cipher)"
      ],
      "metadata": {
        "colab": {
          "base_uri": "https://localhost:8080/",
          "height": 81
        },
        "id": "5J18x5i6l7qS",
        "outputId": "e170bbe7-4a19-4fc5-c364-66b9c018baa8"
      },
      "execution_count": null,
      "outputs": [
        {
          "output_type": "display_data",
          "data": {
            "text/plain": [
              "<IPython.core.display.Markdown object>"
            ],
            "text/markdown": "jnvqmvn ws afcl ewpv rctt jv jtvllvp jx afv lidvqmx lhcnca nvlcpcyg cy afv fwtv. gw qfvqp, qyp scyp q rqx ws jnvqmcyg afv lhvtt wy fcu eqla jx afv vbct kqssqn. afv lhcnca ws afv eqbv uqy cl qtrqxl rcaf xwd. scyp afv uqgce rqyp afqa rctt tva xwd wda ws afv eqbvl. ca rwdtp uqmv xwd q uqgcecqy, yw tvll afqy kqssqn! lhvqm afv hqllrwnp afv\\_uqgce\\_ws\\_rqyp aw gw afnfgxw. d"
          },
          "metadata": {}
        }
      ]
    },
    {
      "cell_type": "code",
      "source": [
        "change(cipher,'q','a')\n",
        "updated_string(cipher)"
      ],
      "metadata": {
        "colab": {
          "base_uri": "https://localhost:8080/",
          "height": 81
        },
        "id": "sDycKPnzuon6",
        "outputId": "98ada03f-5e2c-4b14-e232-2b12829803a7"
      },
      "execution_count": null,
      "outputs": [
        {
          "output_type": "display_data",
          "data": {
            "text/plain": [
              "<IPython.core.display.Markdown object>"
            ],
            "text/markdown": "jnv**a**mvn ws afcl ewpv rctt jv jtvllvp jx afv lidv**a**mx lhcnca nvlcpcyg cy afv fwtv. gw **a**fv**a**p, **a**yp scyp **a** r**a**x ws jnv**a**mcyg afv lhvtt wy fcu e**a**la jx afv vbct k**a**ss**a**n. afv lhcnca ws afv e**a**bv u**a**y cl **a**tr**a**xl rcaf xwd. scyp afv u**a**gce r**a**yp af**a**a rctt tva xwd wda ws afv e**a**bvl. ca rwdtp u**a**mv xwd **a** u**a**gcec**a**y, yw tvll af**a**y k**a**ss**a**n! lhv**a**m afv h**a**llrwnp afv\\_u**a**gce\\_ws\\_r**a**yp aw gw afnfgxw. d"
          },
          "metadata": {}
        }
      ]
    },
    {
      "cell_type": "code",
      "source": [
        "# We then proceed to decode the cipher in the same way we did for assignment 1.\n",
        "\n",
        "lst = (find_freq(ct))\n",
        "lst.reverse()\n",
        "tot = 0\n",
        "for i in range(26):\n",
        "    fr,ind = lst[i]\n",
        "    tot += fr\n",
        "for i in range(3):\n",
        "    fr,ind = lst[i]\n",
        "    print(f\"Frequency of \\'{chr(ord('a')+ind)}\\' = {100*fr/tot}\")"
      ],
      "metadata": {
        "colab": {
          "base_uri": "https://localhost:8080/"
        },
        "id": "G6UMfT_qv053",
        "outputId": "f7794dc7-31ef-467a-be85-7f50fa89f91e"
      },
      "execution_count": null,
      "outputs": [
        {
          "output_type": "stream",
          "name": "stdout",
          "text": [
            "Frequency of 'q' = 10.56338028169014\n",
            "Frequency of 'v' = 10.211267605633802\n",
            "Frequency of 'a' = 8.098591549295774\n"
          ]
        }
      ]
    },
    {
      "cell_type": "code",
      "source": [
        "# Since the highest frequency letter 'q' is already chosen to be 'a', we replace the next two highest frequency elements as: (v,a) -> (e,t)\n",
        "\n",
        "change(cipher,'v','e')\n",
        "change(cipher,'a','t')\n",
        "updated_string(cipher)"
      ],
      "metadata": {
        "colab": {
          "base_uri": "https://localhost:8080/",
          "height": 81
        },
        "id": "LTTT4LEYwDhv",
        "outputId": "b61f99d8-139b-4266-e6ae-447e1f6ceab1"
      },
      "execution_count": null,
      "outputs": [
        {
          "output_type": "display_data",
          "data": {
            "text/plain": [
              "<IPython.core.display.Markdown object>"
            ],
            "text/markdown": "jn**ea**m**e**n ws **t**fcl ewp**e** rctt j**e** jt**e**ll**e**p jx **t**f**e** lid**ea**mx lhcnc**t** n**e**lcpcyg cy **t**f**e** fwt**e**. gw **a**f**ea**p, **a**yp scyp **a** r**a**x ws jn**ea**mcyg **t**f**e** lh**e**tt wy fcu e**a**l**t** jx **t**f**e** **e**bct k**a**ss**a**n. **t**f**e** lhcnc**t** ws **t**f**e** e**a**b**e** u**a**y cl **a**tr**a**xl rc**t**f xwd. scyp **t**f**e** u**a**gce r**a**yp **t**f**at** rctt t**et** xwd wd**t** ws **t**f**e** e**a**b**e**l. c**t** rwdtp u**a**m**e** xwd **a** u**a**gcec**a**y, yw t**e**ll **t**f**a**y k**a**ss**a**n! lh**ea**m **t**f**e** h**a**llrwnp **t**f**e**\\_u**a**gce\\_ws\\_r**a**yp **t**w gw **t**fnfgxw. d"
          },
          "metadata": {}
        }
      ]
    },
    {
      "cell_type": "code",
      "source": [
        "# We similarly guess the maps of other letters in an interactive manner by completing the words in the ciphertext.\n",
        "\n",
        "change(cipher,'f','h')\n",
        "change(cipher,'c','i')\n",
        "updated_string(cipher)"
      ],
      "metadata": {
        "colab": {
          "base_uri": "https://localhost:8080/",
          "height": 81
        },
        "id": "13yBb7HAwYrN",
        "outputId": "8009b457-7e16-48e4-fc61-ae499239b86d"
      },
      "execution_count": null,
      "outputs": [
        {
          "output_type": "display_data",
          "data": {
            "text/plain": [
              "<IPython.core.display.Markdown object>"
            ],
            "text/markdown": "jn**ea**m**e**n ws **thi**l ewp**e** r**i**tt j**e** jt**e**ll**e**p jx **the** lid**ea**mx lh**i**n**it** n**e**l**i**p**i**yg **i**y **the** **h**wt**e**. gw **ahea**p, **a**yp s**i**yp **a** r**a**x ws jn**ea**m**i**yg **the** lh**e**tt wy **hi**u e**a**l**t** jx **the** **e**b**i**t k**a**ss**a**n. **the** lh**i**n**it** ws **the** e**a**b**e** u**a**y **i**l **a**tr**a**xl r**ith** xwd. s**i**yp **the** u**a**g**i**e r**a**yp **that** r**i**tt t**et** xwd wd**t** ws **the** e**a**b**e**l. **it** rwdtp u**a**m**e** xwd **a** u**a**g**i**e**ia**y, yw t**e**ll **tha**y k**a**ss**a**n! lh**ea**m **the** h**a**llrwnp **the**\\_u**a**g**i**e\\_ws\\_r**a**yp **t**w gw **th**n**h**gxw. d"
          },
          "metadata": {}
        }
      ]
    },
    {
      "cell_type": "code",
      "source": [
        "change(cipher,'l','s')\n",
        "change(cipher,'r','w')\n",
        "change(cipher,'y','n')\n",
        "updated_string(cipher)"
      ],
      "metadata": {
        "colab": {
          "base_uri": "https://localhost:8080/",
          "height": 81
        },
        "id": "TorYasDawPBt",
        "outputId": "df8b494d-8b0b-4a3b-92a1-2709aa6221ec"
      },
      "execution_count": null,
      "outputs": [
        {
          "output_type": "display_data",
          "data": {
            "text/plain": [
              "<IPython.core.display.Markdown object>"
            ],
            "text/markdown": "jn**ea**m**e**n ws **this** ewp**e** **wi**tt j**e** jt**esse**p jx **the** **s**id**ea**mx **s**h**i**n**it** n**esi**p**in**g **in** **the** **h**wt**e**. gw **ahea**p, **an**p s**in**p **a** **wa**x ws jn**ea**m**in**g **the** **s**h**e**tt w**n** **hi**u e**ast** jx **the** **e**b**i**t k**a**ss**a**n. **the** **s**h**i**n**it** ws **the** e**a**b**e** u**an** **is** **a**t**wa**x**s** **with** xwd. s**in**p **the** u**a**g**i**e **wan**p **that** **wi**tt t**et** xwd wd**t** ws **the** e**a**b**es**. **it** **w**wdtp u**a**m**e** xwd **a** u**a**g**i**e**ian**, **n**w t**ess** **than** k**a**ss**a**n! **s**h**ea**m **the** h**assw**wnp **the**\\_u**a**g**i**e\\_ws\\_**wan**p **t**w gw **th**n**h**gxw. d"
          },
          "metadata": {}
        }
      ]
    },
    {
      "cell_type": "code",
      "source": [
        "change(cipher,'t','l')\n",
        "change(cipher,'p','d')\n",
        "updated_string(cipher)"
      ],
      "metadata": {
        "colab": {
          "base_uri": "https://localhost:8080/",
          "height": 81
        },
        "id": "WwOoA7bXwz9z",
        "outputId": "c3ad67b1-be03-46a3-978b-89b9e89acb5f"
      },
      "execution_count": null,
      "outputs": [
        {
          "output_type": "display_data",
          "data": {
            "text/plain": [
              "<IPython.core.display.Markdown object>"
            ],
            "text/markdown": "jn**ea**m**e**n ws **this** ew**de** **will** j**e** j**lessed** jx **the** **s**id**ea**mx **s**h**i**n**it** n**esidin**g **in** **the** **h**w**le**. gw **ahead**, **and** s**ind** **a** **wa**x ws jn**ea**m**in**g **the** **s**h**ell** w**n** **hi**u e**ast** jx **the** **e**b**il** k**a**ss**a**n. **the** **s**h**i**n**it** ws **the** e**a**b**e** u**an** **is** **alwa**x**s** **with** xwd. s**ind** **the** u**a**g**i**e **wand** **that** **will** **let** xwd wd**t** ws **the** e**a**b**es**. **it** **w**wd**ld** u**a**m**e** xwd **a** u**a**g**i**e**ian**, **n**w **less** **than** k**a**ss**a**n! **s**h**ea**m **the** h**assw**wn**d** **the**\\_u**a**g**i**e\\_ws\\_**wand** **t**w gw **th**n**h**gxw. d"
          },
          "metadata": {}
        }
      ]
    },
    {
      "cell_type": "code",
      "source": [
        "change(cipher,'j','b')\n",
        "change(cipher,'n','r')\n",
        "change(cipher,'w','o')\n",
        "change(cipher,'g','g')\n",
        "change(cipher,'s','f')\n",
        "updated_string(cipher)"
      ],
      "metadata": {
        "colab": {
          "base_uri": "https://localhost:8080/",
          "height": 81
        },
        "id": "YQLtv6V5xINb",
        "outputId": "5a038e26-63e7-4b44-b069-77f27915c94c"
      },
      "execution_count": null,
      "outputs": [
        {
          "output_type": "display_data",
          "data": {
            "text/plain": [
              "<IPython.core.display.Markdown object>"
            ],
            "text/markdown": "**brea**m**er** **of** **this** e**ode** **will** **be** **blessed** **b**x **the** **s**id**ea**mx **s**h**irit** **residing** **in** **the** **hole**. **go** **ahead**, **and** **find** **a** **wa**x **of** **brea**m**ing** **the** **s**h**ell** **on** **hi**u e**ast** **b**x **the** **e**b**il** k**affar**. **the** **s**h**irit** **of** **the** e**a**b**e** u**an** **is** **alwa**x**s** **with** x**o**d. **find** **the** u**agi**e **wand** **that** **will** **let** x**o**d **o**d**t** **of** **the** e**a**b**es**. **it** **wo**d**ld** u**a**m**e** x**o**d **a** u**agi**e**ian**, **no** **less** **than** k**affar**! **s**h**ea**m **the** h**assword** **the**\\_u**agi**e\\_**of**\\_**wand** **to** **go** **thrhg**x**o**. d"
          },
          "metadata": {}
        }
      ]
    },
    {
      "cell_type": "code",
      "source": [
        "change(cipher,'m','k')\n",
        "change(cipher,'e','c')\n",
        "change(cipher,'x','y')\n",
        "change(cipher,'g','g')\n",
        "change(cipher,'s','f')\n",
        "updated_string(cipher)"
      ],
      "metadata": {
        "colab": {
          "base_uri": "https://localhost:8080/",
          "height": 81
        },
        "id": "z_OhejDSxYqA",
        "outputId": "b9ca7b7e-7b9e-48b1-e673-84f3e9e1739a"
      },
      "execution_count": null,
      "outputs": [
        {
          "output_type": "display_data",
          "data": {
            "text/plain": [
              "<IPython.core.display.Markdown object>"
            ],
            "text/markdown": "**breaker** **of** **this** **code** **will** **be** **blessed** **by** **the** **s**id**eaky** **s**h**irit** **residing** **in** **the** **hole**. **go** **ahead**, **and** **find** **a** **way** **of** **breaking** **the** **s**h**ell** **on** **hi**u **cast** **by** **the** **e**b**il** k**affar**. **the** **s**h**irit** **of** **the** **ca**b**e** u**an** **is** **always** **with** **yo**d. **find** **the** u**agic** **wand** **that** **will** **let** **yo**d **o**d**t** **of** **the** **ca**b**es**. **it** **wo**d**ld** u**ake** **yo**d **a** u**agician**, **no** **less** **than** k**affar**! **s**h**eak** **the** h**assword** **the**\\_u**agic**\\_**of**\\_**wand** **to** **go** **thrhgyo**. d"
          },
          "metadata": {}
        }
      ]
    },
    {
      "cell_type": "code",
      "source": [
        "change(cipher,'h','p')\n",
        "change(cipher,'u','m')\n",
        "change(cipher,'d','u')\n",
        "change(cipher,'b','v')\n",
        "updated_string(cipher)"
      ],
      "metadata": {
        "colab": {
          "base_uri": "https://localhost:8080/",
          "height": 81
        },
        "id": "W54LuDuXx5ht",
        "outputId": "597a4f32-80fc-492d-9695-a1ba4cbea1ca"
      },
      "execution_count": null,
      "outputs": [
        {
          "output_type": "display_data",
          "data": {
            "text/plain": [
              "<IPython.core.display.Markdown object>"
            ],
            "text/markdown": "**breaker** **of** **this** **code** **will** **be** **blessed** **by** **the** **s**i**ueaky** **spirit** **residing** **in** **the** **hole**. **go** **ahead**, **and** **find** **a** **way** **of** **breaking** **the** **spell** **on** **him** **cast** **by** **the** **evil** k**affar**. **the** **spirit** **of** **the** **cave** **man** **is** **always** **with** **you**. **find** **the** **magic** **wand** **that** **will** **let** **you** **out** **of** **the** **caves**. **it** **would** **make** **you** **a** **magician**, **no** **less** **than** k**affar**! **speak** **the** **password** **the**\\_**magic**\\_**of**\\_**wand** **to** **go** **thrhgyo**. **u**"
          },
          "metadata": {}
        }
      ]
    },
    {
      "cell_type": "code",
      "source": [
        "# For guessing 'k' -> 'z', we used google to find that zaffar was an evil wizard in a famous TV show \"Aladin\".\n",
        "\n",
        "change(cipher,'k','z')\n",
        "change(cipher,'i','q')\n",
        "updated_string(cipher)"
      ],
      "metadata": {
        "colab": {
          "base_uri": "https://localhost:8080/",
          "height": 81
        },
        "id": "Gm5DzgkA0SNe",
        "outputId": "6a8d199b-ea3c-4911-f80d-53bdc64b9adc"
      },
      "execution_count": null,
      "outputs": [
        {
          "output_type": "display_data",
          "data": {
            "text/plain": [
              "<IPython.core.display.Markdown object>"
            ],
            "text/markdown": "**breaker** **of** **this** **code** **will** **be** **blessed** **by** **the** **squeaky** **spirit** **residing** **in** **the** **hole**. **go** **ahead**, **and** **find** **a** **way** **of** **breaking** **the** **spell** **on** **him** **cast** **by** **the** **evil** **zaffar**. **the** **spirit** **of** **the** **cave** **man** **is** **always** **with** **you**. **find** **the** **magic** **wand** **that** **will** **let** **you** **out** **of** **the** **caves**. **it** **would** **make** **you** **a** **magician**, **no** **less** **than** **zaffar**! **speak** **the** **password** **the**\\_**magic**\\_**of**\\_**wand** **to** **go** **thrhgyo**. **u**"
          },
          "metadata": {}
        }
      ]
    },
    {
      "cell_type": "code",
      "source": [
        "for i in range(len(cipher)):\n",
        "    if a[i] == 1:\n",
        "        chk[ord(cipher[i]) - ord('a')] = 1"
      ],
      "metadata": {
        "id": "v8b8GIuyyT23"
      },
      "execution_count": null,
      "outputs": []
    },
    {
      "cell_type": "code",
      "source": [
        "# We finally are able to decode the complete ciphertext using the first permutation that we tried (i.e. on the basis of sync_score). \n",
        "\n",
        "alph = [0 for i in range(26)]\n",
        "sub = ['_' for i in range(26)]\n",
        "unused_ct = []\n",
        "unused_pt = []\n",
        "for i in range(26):\n",
        "    alph[i] = chr(ord('a') + i)\n",
        "    if chk[i] == 1:\n",
        "        sub[perm[i]] = chr(ord('a') + i)\n",
        "    else:\n",
        "        unused_ct.append(chr(ord('a') + i))\n",
        "for i in range(26):\n",
        "    if sub[i] == \"_\":\n",
        "        unused_pt.append(chr(ord('a') + i))\n",
        "\n",
        "fin_perm = [0 for i in range(len(permutation))]\n",
        "for i in range(len(permutation)):\n",
        "    fin_perm[permutation[i]] = i\n",
        "\n",
        "print(\"Substitution map is as follows:\")\n",
        "print(f\"plaintext: {alph}\")\n",
        "print(f\"ciphertxt: {sub}\")\n",
        "print(f\"undefined: {unused_pt} --> {unused_ct}\\n\")\n",
        "\n",
        "print(f\"Block size = {len(permutation)}\")\n",
        "print(f\"Permutation = {fin_perm}\")    "
      ],
      "metadata": {
        "colab": {
          "base_uri": "https://localhost:8080/"
        },
        "id": "MeyzwEyszLpq",
        "outputId": "f5fdf9ed-237c-446b-8d97-074ecc06aeff"
      },
      "execution_count": null,
      "outputs": [
        {
          "output_type": "stream",
          "name": "stdout",
          "text": [
            "Substitution map is as follows:\n",
            "plaintext: ['a', 'b', 'c', 'd', 'e', 'f', 'g', 'h', 'i', 'j', 'k', 'l', 'm', 'n', 'o', 'p', 'q', 'r', 's', 't', 'u', 'v', 'w', 'x', 'y', 'z']\n",
            "ciphertxt: ['q', 'j', 'e', 'p', 'v', 's', 'g', 'f', 'c', '_', 'm', 't', 'u', 'y', 'w', 'h', 'i', 'n', 'l', 'a', 'd', 'b', 'r', '_', 'x', 'k']\n",
            "undefined: ['j', 'x'] --> ['o', 'z']\n",
            "\n",
            "Block size = 5\n",
            "Permutation = [3, 4, 1, 0, 2]\n"
          ]
        }
      ]
    }
  ]
}