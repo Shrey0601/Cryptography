{
  "cells": [
    {
      "cell_type": "code",
      "execution_count": null,
      "metadata": {
        "id": "eCCS9KhjV7Gq"
      },
      "outputs": [],
      "source": [
        "from IPython.display import Markdown, display\n",
        "import re"
      ]
    },
    {
      "cell_type": "code",
      "execution_count": null,
      "metadata": {
        "id": "5q7zlQH9VuHL"
      },
      "outputs": [],
      "source": [
        "def printmd(s):\n",
        "    display(Markdown(s))"
      ]
    },
    {
      "cell_type": "code",
      "execution_count": null,
      "metadata": {
        "id": "8CMPyKebP_qe"
      },
      "outputs": [],
      "source": [
        "def updated_string(s):\n",
        "    ans = \"\"\n",
        "    for i in range(len(s)):\n",
        "        c = s[i]\n",
        "        if a[i] == 1:\n",
        "            if ord('a') <= ord(c) and ord(c)<= ord('z'):\n",
        "                c = chr( ord('a') + perm[ord(c)-ord('a')] ) \n",
        "            elif ord('A') <= ord(c) and ord(c)<= ord('Z'):\n",
        "                c = chr( ord('A') + perm[ord(c)-ord('A')] )\n",
        "            if i>0 and ans[-1] == '*':\n",
        "                ans = ans[:-2] + c + \"**\"\n",
        "            else:\n",
        "                ans = ans + \"**\" + c + \"**\"\n",
        "        elif c == '\\n':\n",
        "            ans = ans + \"<br>\"\n",
        "        else:\n",
        "            ans = ans + c\n",
        "    printmd(ans)"
      ]
    },
    {
      "cell_type": "code",
      "execution_count": null,
      "metadata": {
        "id": "7FBUOJ12MDp_"
      },
      "outputs": [],
      "source": [
        "def change(s,x,y):\n",
        "    cnt = 0\n",
        "    if ord('a') <= ord(x) and ord(x)<= ord('z'):\n",
        "        for i in range(len(s)):\n",
        "            if s[i] == x or s[i] == chr(ord(x)+ord('A')-ord('a')):\n",
        "                perm[ord(x)-ord('a')] = ord(y)-ord('a')\n",
        "                a[i] = 1\n",
        "                cnt += 1\n",
        "    return cnt"
      ]
    },
    {
      "cell_type": "code",
      "execution_count": null,
      "metadata": {
        "id": "zRHOhIeQswSM"
      },
      "outputs": [],
      "source": [
        "def revert_change(s,x):\n",
        "    cnt = 0\n",
        "    if ord('a') <= ord(x) and ord(x)<= ord('z'):\n",
        "        for i in range(len(s)):\n",
        "            if s[i] == x or s[i] == chr(ord(x)+ord('A')-ord('a')):\n",
        "                perm[ord(x)-ord('a')] = ord(x)-ord('a')\n",
        "                a[i] = 0\n",
        "                cnt += 1\n",
        "    return cnt"
      ]
    },
    {
      "cell_type": "code",
      "execution_count": null,
      "metadata": {
        "id": "tUBWx4WxgY-f"
      },
      "outputs": [],
      "source": [
        "def find_freq(s):\n",
        "    for i in range(26):\n",
        "        freq[i] = 0\n",
        "    s = s.lower()\n",
        "    for c in s:\n",
        "        if ord('a') <= ord(c) and ord(c)<= ord('z'):\n",
        "            freq[ord(c) - ord('a')] += 1\n",
        "    lst = [(freq[i],i) for i in range(26)]\n",
        "    return sorted(lst)\n",
        "\n",
        "def find_freq2(s):\n",
        "    freq2 = [[0 for i in range(26)] for j in range(26)]\n",
        "    s = s.lower()\n",
        "    for i in range(len(s)-1):\n",
        "        if ord('a') <= ord(s[i]) and ord(s[i])<= ord('z') and  ord('a') <= ord(s[i+1]) and ord(s[i+1])<= ord('z'):\n",
        "            freq2[ ord(s[i])-ord('a') ][ ord(s[i+1])-ord('a') ] += 1\n",
        "    lst = []\n",
        "    for i in range(26):\n",
        "        for j in range(26):\n",
        "            lst.append((freq2[i][j],i,j))\n",
        "    return sorted(lst)"
      ]
    },
    {
      "cell_type": "code",
      "execution_count": null,
      "metadata": {
        "colab": {
          "base_uri": "https://localhost:8080/"
        },
        "id": "Yt-FJjR2G2we",
        "outputId": "d4ea50f4-4ca2-476f-f697-6328d9d3d6dd"
      },
      "outputs": [
        {
          "output_type": "stream",
          "name": "stdout",
          "text": [
            "qmnjvsa nv wewc flct vprj tj tvvplvl fv xja vqildhc \n",
            "xmlnvc nacyclpa fc gyt vfvw. fv wgqyp, pqq pqcs y wsq \n",
            "rx qmnjvafy cgv tlvhf cw tyl aeuq fv xja tkbv cqnsqs. \n",
            "lhf avawnc cv eas fuqb qvq tc yllrqr xxwa cfy. psdc uqf \n",
            "avrqc gefq pyat trac xwv taa wwd dv eas flcbq. vd trawm \n",
            "vupq quw x decgqcwt, yq yafl vlqs yqklhq! snafq vml \n",
            "lhvqpawr nqg_vfusr_ec_wawy qp fn wgawdgf.\n"
          ]
        }
      ],
      "source": [
        "string = \"qmnjvsa nv wewc flct vprj tj tvvplvl fv xja vqildhc \\nxmlnvc nacyclpa fc gyt vfvw. fv wgqyp, pqq pqcs y wsq \\nrx qmnjvafy cgv tlvhf cw tyl aeuq fv xja tkbv cqnsqs. \\nlhf avawnc cv eas fuqb qvq tc yllrqr xxwa cfy. psdc uqf \\navrqc gefq pyat trac xwv taa wwd dv eas flcbq. vd trawm \\nvupq quw x decgqcwt, yq yafl vlqs yqklhq! snafq vml \\nlhvqpawr nqg_vfusr_ec_wawy qp fn wgawdgf.\"\n",
        "# string = \"Mewa wa mey twsam iepjoys gt mey ipbya. \\nPa xgn iph ayy, meysy wa hgmewhr gt \\nwhmysyam wh mey iepjoys. Agjy gt mey kpmys \\niepjoysa vwkk oy jgsy whmysyamwhr meph \\nmewa ghy! Mey iguy nayu tgs mewa jyaapry \\nwa p awjfky anoamwmnmwgh iwfeys wh vewie \\nuwrwma epby oyyh aewtmyu ox 8 fkpiya. \\nMey fpaavgsu wa \\\"mxSrN03uwdd\\\" vwmegnm mey \\ndngmya.\\n\"\n",
        "print(string)"
      ]
    },
    {
      "cell_type": "code",
      "execution_count": null,
      "metadata": {
        "id": "xjrLbJizLS2O"
      },
      "outputs": [],
      "source": [
        "# Initializing required arrays.\n",
        "a = [0 for i in range(len(string))]\n",
        "perm = [i for i in range(26)] \n",
        "freq = [0 for i in range(26)]\n",
        "chk = [0 for i in range(26)]"
      ]
    },
    {
      "cell_type": "code",
      "execution_count": null,
      "metadata": {
        "colab": {
          "base_uri": "https://localhost:8080/"
        },
        "id": "PqP0PuBBjB9h",
        "outputId": "374918ec-028c-4056-83d9-eb039fe94216"
      },
      "outputs": [
        {
          "output_type": "stream",
          "name": "stdout",
          "text": [
            "Frequency of 'q' = 30\n",
            "Frequency of 'v' = 29\n",
            "Frequency of 'a' = 23\n"
          ]
        }
      ],
      "source": [
        "# Printing letters with top 3 frequencies in the given text.\n",
        "lst = (find_freq(string))\n",
        "lst.reverse()\n",
        "for i in range(3):\n",
        "    fr,ind = lst[i]\n",
        "    print(f\"Frequency of \\'{chr(ord('a')+ind)}\\' = {fr}\")"
      ]
    },
    {
      "cell_type": "code",
      "source": [
        "change(string,'f','i')\n",
        "change(string,'v','n')\n",
        "change(string,'x','t')\n",
        "change(string,'j','h')\n",
        "change(string,'a','e')\n",
        "updated_string(string)"
      ],
      "metadata": {
        "colab": {
          "base_uri": "https://localhost:8080/",
          "height": 151
        },
        "id": "es5oKP5PjrFx",
        "outputId": "b16bcd72-2b37-4835-e15e-4126bb1dc322"
      },
      "execution_count": null,
      "outputs": [
        {
          "output_type": "display_data",
          "data": {
            "text/plain": [
              "<IPython.core.display.Markdown object>"
            ],
            "text/markdown": "qmn**hn**s**e** n**n** wewc **i**lct **n**pr**h** t**h** t**nn**pl**n**l **in** **the** **n**qildhc <br>**t**mln**n**c n**e**cyclp**e** **i**c gyt **nin**w. **in** wgqyp, pqq pqcs y wsq <br>r**t** qmn**hnei**y cg**n** tl**n**h**i** cw tyl **e**euq **in** **the** tkb**n** cqnsqs. <br>lh**i** **ene**wnc c**n** e**e**s **i**uqb q**n**q tc yllrqr **tt**w**e** c**i**y. psdc uq**i** <br>**en**rqc ge**i**q py**e**t tr**e**c **t**w**n** t**ee** wwd d**n** e**e**s **i**lcbq. **n**d tr**e**wm <br>**n**upq quw **t** decgqcwt, yq y**ei**l **n**lqs yqklhq! sn**ei**q **n**ml <br>lh**n**qp**e**wr nqg_**ni**usr_ec_w**e**wy qp **i**n wg**e**wdg**i**."
          },
          "metadata": {}
        }
      ]
    },
    {
      "cell_type": "code",
      "execution_count": null,
      "metadata": {
        "colab": {
          "base_uri": "https://localhost:8080/",
          "height": 185
        },
        "id": "duupi2XharXj",
        "outputId": "a7593a98-c3b4-4a03-97eb-9fd25af00c7c"
      },
      "outputs": [
        {
          "output_type": "display_data",
          "data": {
            "text/plain": [
              "<IPython.core.display.Markdown object>"
            ],
            "text/markdown": "**T**ew**a** w**a** **t**e**e** tws**at** iepjo**e**s gt **t**e**e** ipb**ea**. <br>P**a** xgn iph **aee**, **t**e**e**s**e** w**a** hg**t**ewhr gt <br>wh**te**s**eat** wh **t**e**e** iepjo**e**s. **A**gj**e** gt **t**e**e** kp**te**s <br>iepjo**e**s**a** vwkk o**e** jgs**e** wh**te**s**eat**whr **t**eph <br>**t**ew**a** gh**e**! **T**e**e** igu**e** n**ae**u tgs **t**ew**a** j**eaa**pr**e** <br>w**a** p **a**wjfk**e** **a**no**at**w**t**n**t**wgh iwfe**e**s wh vewie <br>uwrw**ta** epb**e** o**ee**h **a**ewt**te**u ox 8 fkpi**ea**. <br>**T**e**e** fp**aa**vgsu w**a** \"**t**xSrN03uwdd\" vw**t**egn**t** **t**e**e** <br>dng**tea**.<br>"
          },
          "metadata": {}
        }
      ],
      "source": [
        "# Replacing the top three letters with the generally observed top three letters (e,t,a respectively).\n",
        "change(string,'y','e')\n",
        "change(string,'m','t')\n",
        "change(string,'a','a')\n",
        "updated_string(string)"
      ]
    },
    {
      "cell_type": "code",
      "execution_count": null,
      "metadata": {
        "colab": {
          "base_uri": "https://localhost:8080/",
          "height": 185
        },
        "id": "2wgu6rdBbN78",
        "outputId": "80c59554-ffd5-48fe-dccf-c22f39e1df45"
      },
      "outputs": [
        {
          "output_type": "display_data",
          "data": {
            "text/plain": [
              "<IPython.core.display.Markdown object>"
            ],
            "text/markdown": "**T**ewa wa **t**e**e** twsa**t** iepjo**e**s gt **t**e**e** ipb**e**a. <br>Pa xgn iph a**ee**, **t**e**e**s**e** wa hg**t**ewhr gt <br>wh**te**s**e**a**t** wh **t**e**e** iepjo**e**s. Agj**e** gt **t**e**e** kp**te**s <br>iepjo**e**sa vwkk o**e** jgs**e** wh**te**s**e**a**t**whr **t**eph <br>**t**ewa gh**e**! **T**e**e** igu**e** na**e**u tgs **t**ewa j**e**aapr**e** <br>wa p awjfk**e** anoa**t**w**t**n**t**wgh iwfe**e**s wh vewie <br>uwrw**t**a epb**e** o**ee**h aewt**te**u ox 8 fkpi**e**a. <br>**T**e**e** fpaavgsu wa \"**t**xSrN03uwdd\" vw**t**egn**t** **t**e**e** <br>dng**te**a.<br>"
          },
          "metadata": {}
        }
      ],
      "source": [
        "# Since 'aee' is not in the english language. We will try replacing only the top 2 letters with (e,t respectively).\n",
        "revert_change(string,'a')\n",
        "updated_string(string)"
      ]
    },
    {
      "cell_type": "code",
      "execution_count": null,
      "metadata": {
        "colab": {
          "base_uri": "https://localhost:8080/",
          "height": 185
        },
        "id": "t-JEIyZ7cqEn",
        "outputId": "48afbdf4-ea1f-4784-822d-85db72b6287f"
      },
      "outputs": [
        {
          "output_type": "display_data",
          "data": {
            "text/plain": [
              "<IPython.core.display.Markdown object>"
            ],
            "text/markdown": "**T**ewa wa **t**e**e** twsa**t** ie**a**jo**e**s gt **t**e**e** i**a**b**e**a. <br>**A**a xgn i**a**h a**ee**, **t**e**e**s**e** wa hg**t**ewhr gt <br>wh**te**s**e**a**t** wh **t**e**e** ie**a**jo**e**s. Agj**e** gt **t**e**e** k**ate**s <br>ie**a**jo**e**sa vwkk o**e** jgs**e** wh**te**s**e**a**t**whr **t**e**a**h <br>**t**ewa gh**e**! **T**e**e** igu**e** na**e**u tgs **t**ewa j**e**aa**a**r**e** <br>wa **a** awjfk**e** anoa**t**w**t**n**t**wgh iwfe**e**s wh vewie <br>uwrw**t**a e**a**b**e** o**ee**h aewt**te**u ox 8 fk**a**i**e**a. <br>**T**e**e** f**a**aavgsu wa \"**t**xSrN03uwdd\" vw**t**egn**t** **t**e**e** <br>dng**te**a.<br>"
          },
          "metadata": {}
        }
      ],
      "source": [
        "# There are only two single lettered words in english (a,I).\n",
        "# Replacing the single lettered words in the given text with 'a'.\n",
        "change(string,'p','a')\n",
        "updated_string(string)"
      ]
    },
    {
      "cell_type": "code",
      "execution_count": null,
      "metadata": {
        "colab": {
          "base_uri": "https://localhost:8080/"
        },
        "id": "sybkTGAXuRMp",
        "outputId": "68b7f1f8-0453-44c1-fab2-d3cd4394f9da"
      },
      "outputs": [
        {
          "output_type": "stream",
          "name": "stdout",
          "text": [
            "Frequency of 'me' = 14\n",
            "Frequency of 'ey' = 9\n",
            "Frequency of 'ys' = 8\n"
          ]
        }
      ],
      "source": [
        "# Printing digraphs with top 3 frequencies in the given text.\n",
        "lst = find_freq2(string)\n",
        "lst.reverse()\n",
        "for i in range(3):\n",
        "    fr,ind1,ind2 = lst[i]\n",
        "    print(f\"Frequency of \\'{chr(ord('a')+ind1)}{chr(ord('a')+ind2)}\\' = {fr}\")"
      ]
    },
    {
      "cell_type": "code",
      "execution_count": null,
      "metadata": {
        "colab": {
          "base_uri": "https://localhost:8080/",
          "height": 185
        },
        "id": "8SNLqgir3GcP",
        "outputId": "be341cb6-ebd8-4687-bf9c-e46bb8e43d16"
      },
      "outputs": [
        {
          "output_type": "display_data",
          "data": {
            "text/plain": [
              "<IPython.core.display.Markdown object>"
            ],
            "text/markdown": "**Th**wa wa **the** twsa**t** i**ha**jo**e**s gt **the** i**a**b**e**a. <br>**A**a xgn i**a**h a**ee**, **the**s**e** wa hg**th**whr gt <br>wh**te**s**e**a**t** wh **the** i**ha**jo**e**s. Agj**e** gt **the** k**ate**s <br>i**ha**jo**e**sa vwkk o**e** jgs**e** wh**te**s**e**a**t**whr **tha**h <br>**th**wa gh**e**! **The** igu**e** na**e**u tgs **th**wa j**e**aa**a**r**e** <br>wa **a** awjfk**e** anoa**t**w**t**n**t**wgh iwf**he**s wh v**h**wi**h** <br>uwrw**t**a **ha**b**e** o**ee**h a**h**wt**te**u ox 8 fk**a**i**e**a. <br>**The** f**a**aavgsu wa \"**t**xSrN03uwdd\" vw**th**gn**t** **the** <br>dng**te**a.<br>"
          },
          "metadata": {}
        }
      ],
      "source": [
        "# Replacing the digraph with highest frequency with the generally observed top digraph (th).\n",
        "change(string,'e','h')\n",
        "updated_string(string)"
      ]
    },
    {
      "cell_type": "code",
      "execution_count": null,
      "metadata": {
        "colab": {
          "base_uri": "https://localhost:8080/",
          "height": 185
        },
        "id": "_FoNd3HHyZDb",
        "outputId": "0914f5d6-e582-4625-db1b-3c47e03a7b23"
      },
      "outputs": [
        {
          "output_type": "display_data",
          "data": {
            "text/plain": [
              "<IPython.core.display.Markdown object>"
            ],
            "text/markdown": "**This** **is** **the** t**i**s**st** i**ha**jo**e**s gt **the** i**a**b**es**. <br>**As** xgn i**a**h **see**, **the**s**e** **is** hg**thi**hr gt <br>**i**h**te**s**est** **i**h **the** i**ha**jo**e**s. **S**gj**e** gt **the** k**ate**s <br>i**ha**jo**e**s**s** v**i**kk o**e** jgs**e** **i**h**te**s**esti**hr **tha**h <br>**this** gh**e**! **The** igu**e** n**se**u tgs **this** j**essa**r**e** <br>**is** **a** **si**jfk**e** **s**no**stit**n**ti**gh i**i**f**he**s **i**h v**hi**i**h** <br>u**i**r**its** **ha**b**e** o**ee**h **shi**t**te**u ox 8 fk**a**i**es**. <br>**The** f**ass**vgsu **is** \"**t**xSrN03u**i**dd\" v**ith**gn**t** **the** <br>dng**tes**.<br>"
          },
          "metadata": {}
        }
      ],
      "source": [
        "# The first two words should be \"This is\". Replacing (w,a) with (i,s) respectively.\n",
        "change(string,'w','i')\n",
        "change(string,'a','s')\n",
        "updated_string(string)"
      ]
    },
    {
      "cell_type": "code",
      "execution_count": null,
      "metadata": {
        "colab": {
          "base_uri": "https://localhost:8080/",
          "height": 185
        },
        "id": "cP2VWPW250xA",
        "outputId": "fdd2f5a7-ce1d-447a-d916-091f35750f3a"
      },
      "outputs": [
        {
          "output_type": "display_data",
          "data": {
            "text/plain": [
              "<IPython.core.display.Markdown object>"
            ],
            "text/markdown": "**This** **is** **the** t**i**s**st** i**ha**jo**e**s gt **the** i**a**b**es**. <br>**As** xgn i**an** **see**, **the**s**e** **is** **n**g**thin**r gt <br>**inte**s**est** **in** **the** i**ha**jo**e**s. **S**gj**e** gt **the** k**ate**s <br>i**ha**jo**e**s**s** v**i**kk o**e** jgs**e** **inte**s**estin**r **than** <br>**this** g**ne**! **The** igu**e** n**se**u tgs **this** j**essa**r**e** <br>**is** **a** **si**jfk**e** **s**no**stit**n**ti**g**n** i**i**f**he**s **in** v**hi**i**h** <br>u**i**r**its** **ha**b**e** o**een** **shi**t**te**u ox 8 fk**a**i**es**. <br>**The** f**ass**vgsu **is** \"**t**xSrN03u**i**dd\" v**ith**gn**t** **the** <br>dng**tes**.<br>"
          },
          "metadata": {}
        }
      ],
      "source": [
        "# The second word in the third line should be \"in\" or \"is\". But since \"is\" is already decoded, it must be \"in\".\n",
        "# Replacing 'h' with 'n'.\n",
        "change(string,'h','n')\n",
        "updated_string(string)"
      ]
    },
    {
      "cell_type": "code",
      "execution_count": null,
      "metadata": {
        "colab": {
          "base_uri": "https://localhost:8080/",
          "height": 185
        },
        "id": "LfhaQKHa6T8H",
        "outputId": "c34f9938-0177-48b1-aa08-5dff3ba817c9"
      },
      "outputs": [
        {
          "output_type": "display_data",
          "data": {
            "text/plain": [
              "<IPython.core.display.Markdown object>"
            ],
            "text/markdown": "**This** **is** **the** t**irst** i**ha**jo**er** gt **the** i**a**b**es**. <br>**As** xgn i**an** **see**, **there** **is** **n**g**thin**r gt <br>**interest** **in** **the** i**ha**jo**er**. **S**gj**e** gt **the** k**ater** <br>i**ha**jo**ers** v**i**kk o**e** jg**re** **interestin**r **than** <br>**this** g**ne**! **The** igu**e** n**se**u tg**r** **this** j**essa**r**e** <br>**is** **a** **si**jfk**e** **s**no**stit**n**ti**g**n** i**i**f**her** **in** v**hi**i**h** <br>u**i**r**its** **ha**b**e** o**een** **shi**t**te**u ox 8 fk**a**i**es**. <br>**The** f**ass**vg**r**u **is** \"**t**x**R**rN03u**i**dd\" v**ith**gn**t** **the** <br>dng**tes**.<br>"
          },
          "metadata": {}
        }
      ],
      "source": [
        "# The first word in the third line should be \"interest\".\n",
        "# Replacing 's' with 'r'.\n",
        "change(string,'s','r')\n",
        "updated_string(string)"
      ]
    },
    {
      "cell_type": "code",
      "execution_count": null,
      "metadata": {
        "colab": {
          "base_uri": "https://localhost:8080/",
          "height": 185
        },
        "id": "3UxNvFSj6jM1",
        "outputId": "5c8f6d25-ad5a-4229-d162-6ec9e661314f"
      },
      "outputs": [
        {
          "output_type": "display_data",
          "data": {
            "text/plain": [
              "<IPython.core.display.Markdown object>"
            ],
            "text/markdown": "**This** **is** **the** **first** i**ha**jo**er** g**f** **the** i**a**b**es**. <br>**As** xgn i**an** **see**, **there** **is** **n**g**thin**r g**f** <br>**interest** **in** **the** i**ha**jo**er**. **S**gj**e** g**f** **the** k**ater** <br>i**ha**jo**ers** v**i**kk o**e** jg**re** **interestin**r **than** <br>**this** g**ne**! **The** igu**e** n**se**u **f**g**r** **this** j**essa**r**e** <br>**is** **a** **si**jfk**e** **s**no**stit**n**ti**g**n** i**i**f**her** **in** v**hi**i**h** <br>u**i**r**its** **ha**b**e** o**een** **shifte**u ox 8 fk**a**i**es**. <br>**The** f**ass**vg**r**u **is** \"**t**x**R**rN03u**i**dd\" v**ith**gn**t** **the** <br>dng**tes**.<br>"
          },
          "metadata": {}
        }
      ],
      "source": [
        "# The third word in the first line should be \"first\".\n",
        "# Replacing 't' with 'f'.\n",
        "change(string,'t','f')\n",
        "updated_string(string)"
      ]
    },
    {
      "cell_type": "code",
      "execution_count": null,
      "metadata": {
        "colab": {
          "base_uri": "https://localhost:8080/",
          "height": 185
        },
        "id": "24849mP36uXD",
        "outputId": "5f1090bb-7f21-4740-ec5b-eba3bed27b77"
      },
      "outputs": [
        {
          "output_type": "display_data",
          "data": {
            "text/plain": [
              "<IPython.core.display.Markdown object>"
            ],
            "text/markdown": "**This** **is** **the** **first** i**ha**jo**er** **of** **the** i**a**b**es**. <br>**As** x**o**n i**an** **see**, **there** **is** **nothing** **of** <br>**interest** **in** **the** i**ha**jo**er**. **So**j**e** **of** **the** k**ater** <br>i**ha**jo**ers** v**i**kk o**e** j**ore** **interesting** **than** <br>**this** **one**! **The** i**o**u**e** n**se**u **for** **this** j**essage** <br>**is** **a** **si**jfk**e** **s**no**stit**n**tion** i**i**f**her** **in** v**hi**i**h** <br>u**igits** **ha**b**e** o**een** **shifte**u ox 8 fk**a**i**es**. <br>**The** f**ass**v**or**u **is** \"**t**x**Rg**N03u**i**dd\" v**itho**n**t** **the** <br>dn**otes**.<br>"
          },
          "metadata": {}
        }
      ],
      "source": [
        "# The seventh word in the second line should be \"nothing\".\n",
        "# Replacing (g,r) with (o,g) respectively.\n",
        "change(string,'g','o')\n",
        "change(string,'r','g')\n",
        "updated_string(string)"
      ]
    },
    {
      "cell_type": "code",
      "execution_count": null,
      "metadata": {
        "colab": {
          "base_uri": "https://localhost:8080/",
          "height": 185
        },
        "id": "Cu4OTqCg66TN",
        "outputId": "2adba0fb-3e81-4ab5-f215-59f31b4c3321"
      },
      "outputs": [
        {
          "output_type": "display_data",
          "data": {
            "text/plain": [
              "<IPython.core.display.Markdown object>"
            ],
            "text/markdown": "**This** **is** **the** **first** i**ham**o**er** **of** **the** i**aves**. <br>**As** x**o**n i**an** **see**, **there** **is** **nothing** **of** <br>**interest** **in** **the** i**ham**o**er**. **Some** **of** **the** k**ater** <br>i**ham**o**ers** v**i**kk o**e** **more** **interesting** **than** <br>**this** **one**! **The** i**ode** n**sed** **for** **this** **message** <br>**is** **a** **sim**fk**e** **s**no**stit**n**tion** i**i**f**her** **in** v**hi**i**h** <br>**digits** **have** o**een** **shifted** ox 8 fk**a**i**es**. <br>**The** f**ass**v**ord** **is** \"**t**x**Rg**N03**di**dd\" v**itho**n**t** **the** <br>dn**otes**.<br>"
          },
          "metadata": {}
        }
      ],
      "source": [
        "# The last word in the fifth line should be \"message\".\n",
        "# The first two words of the seventh line should be \"digits have\"\n",
        "# Replacing (j,u,b) with (m,d,v) respectively.\n",
        "change(string,'j','m')\n",
        "change(string,'u','d')\n",
        "change(string,'b','v')\n",
        "updated_string(string)"
      ]
    },
    {
      "cell_type": "code",
      "execution_count": null,
      "metadata": {
        "colab": {
          "base_uri": "https://localhost:8080/",
          "height": 185
        },
        "id": "4SxEieaU73bR",
        "outputId": "413ab9a8-3eb0-4da7-e0f8-b890b1991a34"
      },
      "outputs": [
        {
          "output_type": "display_data",
          "data": {
            "text/plain": [
              "<IPython.core.display.Markdown object>"
            ],
            "text/markdown": "**This** **is** **the** **first** **chamber** **of** **the** **caves**. <br>**As** x**ou** **can** **see**, **there** **is** **nothing** **of** <br>**interest** **in** **the** **chamber**. **Some** **of** **the** **later** <br>**chambers** v**ill** **be** **more** **interesting** **than** <br>**this** **one**! **The** **code** **used** **for** **this** **message** <br>**is** **a** **simple** **substitution** **cipher** **in** v**hich** <br>**digits** **have** **been** **shifted** **b**x 8 **places**. <br>**The** **pass**v**ord** **is** \"**t**x**RgU**03**di**dd\" v**ithout** **the** <br>d**uotes**.<br>"
          },
          "metadata": {}
        }
      ],
      "source": [
        "# The sixth line should be \"is a simple substitution cipher in which\"\n",
        "# Replacing (f,k,n,o,i) with (p,l,u,b,c) respectively.\n",
        "change(string,'f','p')\n",
        "change(string,'k','l')\n",
        "change(string,'n','u')\n",
        "change(string,'o','b')\n",
        "change(string,'i','c')\n",
        "updated_string(string)"
      ]
    },
    {
      "cell_type": "code",
      "execution_count": null,
      "metadata": {
        "colab": {
          "base_uri": "https://localhost:8080/",
          "height": 185
        },
        "id": "6Q1UcTf79k_j",
        "outputId": "5386ba31-05ee-4966-d365-a0606b7453c6"
      },
      "outputs": [
        {
          "output_type": "display_data",
          "data": {
            "text/plain": [
              "<IPython.core.display.Markdown object>"
            ],
            "text/markdown": "**This** **is** **the** **first** **chamber** **of** **the** **caves**. <br>**As** **you** **can** **see**, **there** **is** **nothing** **of** <br>**interest** **in** **the** **chamber**. **Some** **of** **the** **later** <br>**chambers** **will** **be** **more** **interesting** **than** <br>**this** **one**! **The** **code** **used** **for** **this** **message** <br>**is** **a** **simple** **substitution** **cipher** **in** **which** <br>**digits** **have** **been** **shifted** **by** 8 **places**. <br>**The** **password** **is** \"**tyRgU**03**diqq**\" **without** **the** <br>**quotes**.<br>"
          },
          "metadata": {}
        }
      ],
      "source": [
        "# Gessing the rest of the words is easy.\n",
        "change(string,'x','y') # xou --> you\n",
        "change(string,'v','w') # vill --> will\n",
        "change(string,'d','q') # duotes --> quotes\n",
        "updated_string(string)"
      ]
    },
    {
      "cell_type": "code",
      "execution_count": null,
      "metadata": {
        "colab": {
          "base_uri": "https://localhost:8080/"
        },
        "id": "nPxqiZC69ret",
        "outputId": "68524783-47c9-48fb-fc5e-c0cb1c6e191a"
      },
      "outputs": [
        {
          "output_type": "stream",
          "name": "stdout",
          "text": [
            "The possible passwords are:\n",
            "  tyRgU69diqq\n",
            "  tyRgU14diqq\n"
          ]
        }
      ],
      "source": [
        "# From the information about digit permutaion given in the text, the digits are rotated by x (say):\n",
        "# 8 - x = x (mod 10) => 2x = 8 (mod 10) => x = 4 (mod 5) => x = 4 or 9 (mod 10).\n",
        "x = [4,9]\n",
        "cipher = \"tyRgU03diqq\"\n",
        "\n",
        "print(\"The possible passwords are:\")\n",
        "for t in x:\n",
        "    pwd = \"\"\n",
        "    for i in range(len(cipher)):\n",
        "        if ord('0') <= ord(cipher[i]) and ord(cipher[i])<= ord('9'):\n",
        "            y = (ord(cipher[i]) - ord('0')- t) % 10\n",
        "            pwd = pwd + chr(y + ord('0'))\n",
        "        else:\n",
        "            pwd = pwd + cipher[i]\n",
        "    print(f\"  {pwd}\")\n",
        "        \n",
        "        "
      ]
    },
    {
      "cell_type": "code",
      "source": [
        "# The right answer is for x = 4: tyRgU69diqq"
      ],
      "metadata": {
        "id": "JY7oPqaNZm77"
      },
      "execution_count": null,
      "outputs": []
    }
  ],
  "metadata": {
    "colab": {
      "provenance": []
    },
    "kernelspec": {
      "display_name": "Python 3",
      "name": "python3"
    },
    "language_info": {
      "name": "python"
    }
  },
  "nbformat": 4,
  "nbformat_minor": 0
}